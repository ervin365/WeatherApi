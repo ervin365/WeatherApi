{
 "cells": [
  {
   "metadata": {},
   "cell_type": "markdown",
   "source": [
    "# This is a sample Jupyter Notebook\n",
    "\n",
    "Below is an example of a code cell. \n",
    "Put your cursor into the cell and press Shift+Enter to execute it and select the next one, or click 'Run Cell' button.\n",
    "\n",
    "Press Double Shift to search everywhere for classes, files, tool windows, actions, and settings.\n",
    "\n",
    "To learn more about Jupyter Notebooks in PyCharm, see [help](https://www.jetbrains.com/help/pycharm/ipython-notebook-support.html).\n",
    "For an overview of PyCharm, go to Help -> Learn IDE features or refer to [our documentation](https://www.jetbrains.com/help/pycharm/getting-started.html)."
   ],
   "id": "8a77807f92f26ee"
  },
  {
   "metadata": {
    "ExecuteTime": {
     "end_time": "2025-10-05T10:30:56.451902Z",
     "start_time": "2025-10-05T10:30:56.429010Z"
    }
   },
   "cell_type": "code",
   "source": [
    "import requests\n",
    "from pymongo import MongoClient\n",
    "import os\n",
    "from dotenv import load_dotenv\n",
    "import pandas as pd\n"
   ],
   "id": "fbc121e30a2defb3",
   "outputs": [],
   "execution_count": 112
  },
  {
   "metadata": {
    "ExecuteTime": {
     "end_time": "2025-10-05T10:30:59.724404Z",
     "start_time": "2025-10-05T10:30:59.583348Z"
    }
   },
   "cell_type": "code",
   "source": [
    "load_dotenv()\n",
    "\n",
    "# Get variables\n",
    "API_KEY = os.getenv(\"API_KEY\")\n",
    "MONGO_URI = os.getenv(\"MONGO_URI\")\n",
    "client = MongoClient(MONGO_URI)\n",
    "db = client[\"weather_db\"]"
   ],
   "id": "8683d73a1f8eaf2b",
   "outputs": [],
   "execution_count": 113
  },
  {
   "metadata": {
    "ExecuteTime": {
     "end_time": "2025-10-05T10:30:55.373629Z",
     "start_time": "2025-10-05T10:30:55.222010Z"
    }
   },
   "cell_type": "code",
   "source": "",
   "id": "cc6b93592da807d2",
   "outputs": [],
   "execution_count": 111
  },
  {
   "metadata": {
    "ExecuteTime": {
     "end_time": "2025-10-05T10:47:30.844818Z",
     "start_time": "2025-10-05T10:47:30.750723Z"
    }
   },
   "cell_type": "code",
   "source": [
    "# function for fetching astronomy data\n",
    "\n",
    "def astronomy():\n",
    "    CITY = input(\"Enter City:\")\n",
    "    date = input(\"Enter date (YYYY-MM-DD): \").strip()\n",
    "    url = f\"https://api.weatherapi.com/v1/astronomy.json?key={API_KEY}&q={CITY}&dt={date}\"\n",
    "    response = requests.get(url)\n",
    "    data = response.json()\n",
    "    MONGO_URI = os.getenv(\"MONGO_URI\")\n",
    "    client = MongoClient(MONGO_URI)\n",
    "    db = client[\"weather_db\"]\n",
    "    collection = db[\"astronomy_data\"]\n",
    "    result = collection.insert_one(data)\n",
    "    print(f\"✅ Data inserted with _id: {result.inserted_id}\")"
   ],
   "id": "bbbea5ba8897cdc2",
   "outputs": [],
   "execution_count": 140
  },
  {
   "metadata": {
    "ExecuteTime": {
     "end_time": "2025-10-05T05:10:10.336255Z",
     "start_time": "2025-10-05T05:10:10.329164Z"
    }
   },
   "cell_type": "code",
   "source": [
    "# function for fetching forecast data\n",
    "def forecast7d():\n",
    "    CITY = input(\"Enter City:\").strip()\n",
    "    url = f\"https://api.weatherapi.com/v1/forecast.json?key={API_KEY}&q={CITY}&days=7&aqi=yes&alerts=yes\"\n",
    "    response = requests.get(url)\n",
    "    data = response.json()\n",
    "    client = MongoClient(MONGO_URI)\n",
    "    db = client[\"weather_db\"]\n",
    "    collection = db[\"forecast_data\"]\n",
    "    result = collection.insert_one(data)\n",
    "    print(f\"✅ Data inserted with _id: {result.inserted_id}\")"
   ],
   "id": "a0ade53ab2dcb30e",
   "outputs": [],
   "execution_count": 17
  },
  {
   "metadata": {
    "ExecuteTime": {
     "end_time": "2025-10-05T10:05:16.213734Z",
     "start_time": "2025-10-05T10:05:09.498572Z"
    }
   },
   "cell_type": "code",
   "source": [
    "# First Control Pannel\n",
    "print(\" Select any one of the options:\")\n",
    "print(\" 1. astronomy\")\n",
    "print(\" 2. forecast7d\")\n",
    "n = int(input(\"Enter your choice: \"))\n",
    "if n == 1:\n",
    "    astronomy()\n",
    "elif n== 2:\n",
    "    forecast7d()\n",
    "else:\n",
    "    print(\"Enter a valid option.\")"
   ],
   "id": "3e5edd0cdd77907f",
   "outputs": [
    {
     "name": "stdout",
     "output_type": "stream",
     "text": [
      " Select any one of the options:\n",
      " 1. astronomy\n",
      " 2. forecast7d\n"
     ]
    },
    {
     "ename": "KeyboardInterrupt",
     "evalue": "Interrupted by user",
     "output_type": "error",
     "traceback": [
      "\u001B[31m---------------------------------------------------------------------------\u001B[39m",
      "\u001B[31mKeyboardInterrupt\u001B[39m                         Traceback (most recent call last)",
      "\u001B[36mCell\u001B[39m\u001B[36m \u001B[39m\u001B[32mIn[83]\u001B[39m\u001B[32m, line 6\u001B[39m\n\u001B[32m      4\u001B[39m n = \u001B[38;5;28mint\u001B[39m(\u001B[38;5;28minput\u001B[39m(\u001B[33m\"\u001B[39m\u001B[33mEnter your choice: \u001B[39m\u001B[33m\"\u001B[39m))\n\u001B[32m      5\u001B[39m \u001B[38;5;28;01mif\u001B[39;00m n == \u001B[32m1\u001B[39m:\n\u001B[32m----> \u001B[39m\u001B[32m6\u001B[39m     \u001B[43mastronomy\u001B[49m\u001B[43m(\u001B[49m\u001B[43m)\u001B[49m\n\u001B[32m      7\u001B[39m \u001B[38;5;28;01melif\u001B[39;00m n== \u001B[32m2\u001B[39m:\n\u001B[32m      8\u001B[39m     forecast7d()\n",
      "\u001B[36mCell\u001B[39m\u001B[36m \u001B[39m\u001B[32mIn[15]\u001B[39m\u001B[32m, line 2\u001B[39m, in \u001B[36mastronomy\u001B[39m\u001B[34m()\u001B[39m\n\u001B[32m      1\u001B[39m \u001B[38;5;28;01mdef\u001B[39;00m\u001B[38;5;250m \u001B[39m\u001B[34mastronomy\u001B[39m():\n\u001B[32m----> \u001B[39m\u001B[32m2\u001B[39m     CITY = \u001B[38;5;28;43minput\u001B[39;49m\u001B[43m(\u001B[49m\u001B[33;43m\"\u001B[39;49m\u001B[33;43mEnter City:\u001B[39;49m\u001B[33;43m\"\u001B[39;49m\u001B[43m)\u001B[49m\n\u001B[32m      3\u001B[39m     date = \u001B[38;5;28minput\u001B[39m(\u001B[33m\"\u001B[39m\u001B[33mEnter date (YYYY-MM-DD): \u001B[39m\u001B[33m\"\u001B[39m).strip()\n\u001B[32m      4\u001B[39m     url = \u001B[33mf\u001B[39m\u001B[33m\"\u001B[39m\u001B[33mhttp://api.weatherapi.com/v1/astronomy.json?key=\u001B[39m\u001B[38;5;132;01m{\u001B[39;00mAPI_KEY\u001B[38;5;132;01m}\u001B[39;00m\u001B[33m&q=\u001B[39m\u001B[38;5;132;01m{\u001B[39;00mCITY\u001B[38;5;132;01m}\u001B[39;00m\u001B[33m&dt=\u001B[39m\u001B[38;5;132;01m{\u001B[39;00mdate\u001B[38;5;132;01m}\u001B[39;00m\u001B[33m\"\u001B[39m\n",
      "\u001B[36mFile \u001B[39m\u001B[32m~\\AppData\\Local\\Programs\\Python\\Python313\\Lib\\site-packages\\ipykernel\\kernelbase.py:1282\u001B[39m, in \u001B[36mKernel.raw_input\u001B[39m\u001B[34m(self, prompt)\u001B[39m\n\u001B[32m   1280\u001B[39m     msg = \u001B[33m\"\u001B[39m\u001B[33mraw_input was called, but this frontend does not support input requests.\u001B[39m\u001B[33m\"\u001B[39m\n\u001B[32m   1281\u001B[39m     \u001B[38;5;28;01mraise\u001B[39;00m StdinNotImplementedError(msg)\n\u001B[32m-> \u001B[39m\u001B[32m1282\u001B[39m \u001B[38;5;28;01mreturn\u001B[39;00m \u001B[38;5;28;43mself\u001B[39;49m\u001B[43m.\u001B[49m\u001B[43m_input_request\u001B[49m\u001B[43m(\u001B[49m\n\u001B[32m   1283\u001B[39m \u001B[43m    \u001B[49m\u001B[38;5;28;43mstr\u001B[39;49m\u001B[43m(\u001B[49m\u001B[43mprompt\u001B[49m\u001B[43m)\u001B[49m\u001B[43m,\u001B[49m\n\u001B[32m   1284\u001B[39m \u001B[43m    \u001B[49m\u001B[38;5;28;43mself\u001B[39;49m\u001B[43m.\u001B[49m\u001B[43m_parent_ident\u001B[49m\u001B[43m[\u001B[49m\u001B[33;43m\"\u001B[39;49m\u001B[33;43mshell\u001B[39;49m\u001B[33;43m\"\u001B[39;49m\u001B[43m]\u001B[49m\u001B[43m,\u001B[49m\n\u001B[32m   1285\u001B[39m \u001B[43m    \u001B[49m\u001B[38;5;28;43mself\u001B[39;49m\u001B[43m.\u001B[49m\u001B[43mget_parent\u001B[49m\u001B[43m(\u001B[49m\u001B[33;43m\"\u001B[39;49m\u001B[33;43mshell\u001B[39;49m\u001B[33;43m\"\u001B[39;49m\u001B[43m)\u001B[49m\u001B[43m,\u001B[49m\n\u001B[32m   1286\u001B[39m \u001B[43m    \u001B[49m\u001B[43mpassword\u001B[49m\u001B[43m=\u001B[49m\u001B[38;5;28;43;01mFalse\u001B[39;49;00m\u001B[43m,\u001B[49m\n\u001B[32m   1287\u001B[39m \u001B[43m\u001B[49m\u001B[43m)\u001B[49m\n",
      "\u001B[36mFile \u001B[39m\u001B[32m~\\AppData\\Local\\Programs\\Python\\Python313\\Lib\\site-packages\\ipykernel\\kernelbase.py:1325\u001B[39m, in \u001B[36mKernel._input_request\u001B[39m\u001B[34m(self, prompt, ident, parent, password)\u001B[39m\n\u001B[32m   1322\u001B[39m \u001B[38;5;28;01mexcept\u001B[39;00m \u001B[38;5;167;01mKeyboardInterrupt\u001B[39;00m:\n\u001B[32m   1323\u001B[39m     \u001B[38;5;66;03m# re-raise KeyboardInterrupt, to truncate traceback\u001B[39;00m\n\u001B[32m   1324\u001B[39m     msg = \u001B[33m\"\u001B[39m\u001B[33mInterrupted by user\u001B[39m\u001B[33m\"\u001B[39m\n\u001B[32m-> \u001B[39m\u001B[32m1325\u001B[39m     \u001B[38;5;28;01mraise\u001B[39;00m \u001B[38;5;167;01mKeyboardInterrupt\u001B[39;00m(msg) \u001B[38;5;28;01mfrom\u001B[39;00m\u001B[38;5;250m \u001B[39m\u001B[38;5;28;01mNone\u001B[39;00m\n\u001B[32m   1326\u001B[39m \u001B[38;5;28;01mexcept\u001B[39;00m \u001B[38;5;167;01mException\u001B[39;00m:\n\u001B[32m   1327\u001B[39m     \u001B[38;5;28mself\u001B[39m.log.warning(\u001B[33m\"\u001B[39m\u001B[33mInvalid Message:\u001B[39m\u001B[33m\"\u001B[39m, exc_info=\u001B[38;5;28;01mTrue\u001B[39;00m)\n",
      "\u001B[31mKeyboardInterrupt\u001B[39m: Interrupted by user"
     ]
    }
   ],
   "execution_count": 83
  },
  {
   "metadata": {
    "ExecuteTime": {
     "end_time": "2025-10-05T10:09:43.166573Z",
     "start_time": "2025-10-05T10:09:43.145327Z"
    }
   },
   "cell_type": "code",
   "source": [
    "# Accessing data\n",
    "def accessData():\n",
    "    print(\"Select any one of the options : \")\n",
    "    print(\" 1. astronomy\")\n",
    "    print(\" 2. forecast7d\")\n",
    "    n = int(input(\"Enter your choice: \"))\n",
    "    if n == 1:\n",
    "        collection = db[\"astronomy_data\"]\n",
    "        data = list(collection.find())\n",
    "        astro = pd.DataFrame(data)\n",
    "        DF = astro\n",
    "    elif n == 2:\n",
    "        collection = db[\"forecast_data\"]\n",
    "        data = list(collection.find())\n",
    "        fore = pd.DataFrame(data)\n",
    "        DF = fore\n",
    "    else:\n",
    "        data = []\n",
    "        DF = pd.DataFrame(data)\n",
    "    return DF\n"
   ],
   "id": "d46693c56474974d",
   "outputs": [],
   "execution_count": 87
  },
  {
   "metadata": {
    "ExecuteTime": {
     "end_time": "2025-10-05T10:35:15.188662Z",
     "start_time": "2025-10-05T10:35:15.074389Z"
    }
   },
   "cell_type": "code",
   "source": [
    "def datatransform ():\n",
    "    DF = accessData()\n",
    "    l = list(DF.columns)\n",
    "\n",
    "    final_df = pd.DataFrame()\n",
    "    for i in l:\n",
    "       dframe =  pd.json_normalize(DF[i])\n",
    "       final_df= pd.concat([final_df, dframe], axis=1)\n",
    "\n",
    "    return final_df\n",
    "\n",
    "\n"
   ],
   "id": "5803f158d67b51e7",
   "outputs": [],
   "execution_count": 115
  },
  {
   "metadata": {
    "ExecuteTime": {
     "end_time": "2025-10-05T10:38:36.352422Z",
     "start_time": "2025-10-05T10:38:29.782239Z"
    }
   },
   "cell_type": "code",
   "source": "df = datatransform()",
   "id": "97a463f8db814de2",
   "outputs": [
    {
     "name": "stdout",
     "output_type": "stream",
     "text": [
      "Select any one of the options : \n",
      " 1. astronomy\n",
      " 2. forecast7d\n"
     ]
    }
   ],
   "execution_count": 122
  },
  {
   "metadata": {
    "ExecuteTime": {
     "end_time": "2025-10-05T10:38:39.182910Z",
     "start_time": "2025-10-05T10:38:39.065825Z"
    }
   },
   "cell_type": "code",
   "source": "df",
   "id": "caa23fbc5d4af55d",
   "outputs": [
    {
     "data": {
      "text/plain": [
       "     name     region country      lat      lon         tz_id  localtime_epoch  \\\n",
       "0  Jaipur  Rajasthan   India  26.9167  75.8167  Asia/Kolkata       1759641167   \n",
       "\n",
       "          localtime  last_updated_epoch      last_updated  ...  \\\n",
       "0  2025-10-05 10:42          1759640400  2025-10-05 10:30  ...   \n",
       "\n",
       "   air_quality.co  air_quality.no2  air_quality.o3  air_quality.so2  \\\n",
       "0          279.85            11.55            64.0             5.05   \n",
       "\n",
       "   air_quality.pm2_5  air_quality.pm10 air_quality.us-epa-index  \\\n",
       "0              18.15             18.75                        2   \n",
       "\n",
       "   air_quality.gb-defra-index  \\\n",
       "0                           2   \n",
       "\n",
       "                                         forecastday  alert  \n",
       "0  [{'date': '2025-10-05', 'date_epoch': 17596224...     []  \n",
       "\n",
       "[1 rows x 53 columns]"
      ],
      "text/html": [
       "<div>\n",
       "<style scoped>\n",
       "    .dataframe tbody tr th:only-of-type {\n",
       "        vertical-align: middle;\n",
       "    }\n",
       "\n",
       "    .dataframe tbody tr th {\n",
       "        vertical-align: top;\n",
       "    }\n",
       "\n",
       "    .dataframe thead th {\n",
       "        text-align: right;\n",
       "    }\n",
       "</style>\n",
       "<table border=\"1\" class=\"dataframe\">\n",
       "  <thead>\n",
       "    <tr style=\"text-align: right;\">\n",
       "      <th></th>\n",
       "      <th>name</th>\n",
       "      <th>region</th>\n",
       "      <th>country</th>\n",
       "      <th>lat</th>\n",
       "      <th>lon</th>\n",
       "      <th>tz_id</th>\n",
       "      <th>localtime_epoch</th>\n",
       "      <th>localtime</th>\n",
       "      <th>last_updated_epoch</th>\n",
       "      <th>last_updated</th>\n",
       "      <th>...</th>\n",
       "      <th>air_quality.co</th>\n",
       "      <th>air_quality.no2</th>\n",
       "      <th>air_quality.o3</th>\n",
       "      <th>air_quality.so2</th>\n",
       "      <th>air_quality.pm2_5</th>\n",
       "      <th>air_quality.pm10</th>\n",
       "      <th>air_quality.us-epa-index</th>\n",
       "      <th>air_quality.gb-defra-index</th>\n",
       "      <th>forecastday</th>\n",
       "      <th>alert</th>\n",
       "    </tr>\n",
       "  </thead>\n",
       "  <tbody>\n",
       "    <tr>\n",
       "      <th>0</th>\n",
       "      <td>Jaipur</td>\n",
       "      <td>Rajasthan</td>\n",
       "      <td>India</td>\n",
       "      <td>26.9167</td>\n",
       "      <td>75.8167</td>\n",
       "      <td>Asia/Kolkata</td>\n",
       "      <td>1759641167</td>\n",
       "      <td>2025-10-05 10:42</td>\n",
       "      <td>1759640400</td>\n",
       "      <td>2025-10-05 10:30</td>\n",
       "      <td>...</td>\n",
       "      <td>279.85</td>\n",
       "      <td>11.55</td>\n",
       "      <td>64.0</td>\n",
       "      <td>5.05</td>\n",
       "      <td>18.15</td>\n",
       "      <td>18.75</td>\n",
       "      <td>2</td>\n",
       "      <td>2</td>\n",
       "      <td>[{'date': '2025-10-05', 'date_epoch': 17596224...</td>\n",
       "      <td>[]</td>\n",
       "    </tr>\n",
       "  </tbody>\n",
       "</table>\n",
       "<p>1 rows × 53 columns</p>\n",
       "</div>"
      ]
     },
     "execution_count": 123,
     "metadata": {},
     "output_type": "execute_result"
    }
   ],
   "execution_count": 123
  },
  {
   "metadata": {
    "ExecuteTime": {
     "end_time": "2025-10-05T10:36:49.767391Z",
     "start_time": "2025-10-05T10:36:49.601773Z"
    }
   },
   "cell_type": "code",
   "source": "df.info()",
   "id": "46a9395af12d717a",
   "outputs": [
    {
     "name": "stdout",
     "output_type": "stream",
     "text": [
      "<class 'pandas.core.frame.DataFrame'>\n",
      "RangeIndex: 1 entries, 0 to 0\n",
      "Data columns (total 53 columns):\n",
      " #   Column                      Non-Null Count  Dtype  \n",
      "---  ------                      --------------  -----  \n",
      " 0   name                        1 non-null      object \n",
      " 1   region                      1 non-null      object \n",
      " 2   country                     1 non-null      object \n",
      " 3   lat                         1 non-null      float64\n",
      " 4   lon                         1 non-null      float64\n",
      " 5   tz_id                       1 non-null      object \n",
      " 6   localtime_epoch             1 non-null      int64  \n",
      " 7   localtime                   1 non-null      object \n",
      " 8   last_updated_epoch          1 non-null      int64  \n",
      " 9   last_updated                1 non-null      object \n",
      " 10  temp_c                      1 non-null      float64\n",
      " 11  temp_f                      1 non-null      float64\n",
      " 12  is_day                      1 non-null      int64  \n",
      " 13  wind_mph                    1 non-null      float64\n",
      " 14  wind_kph                    1 non-null      float64\n",
      " 15  wind_degree                 1 non-null      int64  \n",
      " 16  wind_dir                    1 non-null      object \n",
      " 17  pressure_mb                 1 non-null      float64\n",
      " 18  pressure_in                 1 non-null      float64\n",
      " 19  precip_mm                   1 non-null      float64\n",
      " 20  precip_in                   1 non-null      float64\n",
      " 21  humidity                    1 non-null      int64  \n",
      " 22  cloud                       1 non-null      int64  \n",
      " 23  feelslike_c                 1 non-null      float64\n",
      " 24  feelslike_f                 1 non-null      float64\n",
      " 25  windchill_c                 1 non-null      float64\n",
      " 26  windchill_f                 1 non-null      float64\n",
      " 27  heatindex_c                 1 non-null      float64\n",
      " 28  heatindex_f                 1 non-null      float64\n",
      " 29  dewpoint_c                  1 non-null      float64\n",
      " 30  dewpoint_f                  1 non-null      float64\n",
      " 31  vis_km                      1 non-null      float64\n",
      " 32  vis_miles                   1 non-null      float64\n",
      " 33  uv                          1 non-null      float64\n",
      " 34  gust_mph                    1 non-null      float64\n",
      " 35  gust_kph                    1 non-null      float64\n",
      " 36  short_rad                   1 non-null      float64\n",
      " 37  diff_rad                    1 non-null      float64\n",
      " 38  dni                         1 non-null      float64\n",
      " 39  gti                         1 non-null      float64\n",
      " 40  condition.text              1 non-null      object \n",
      " 41  condition.icon              1 non-null      object \n",
      " 42  condition.code              1 non-null      int64  \n",
      " 43  air_quality.co              1 non-null      float64\n",
      " 44  air_quality.no2             1 non-null      float64\n",
      " 45  air_quality.o3              1 non-null      float64\n",
      " 46  air_quality.so2             1 non-null      float64\n",
      " 47  air_quality.pm2_5           1 non-null      float64\n",
      " 48  air_quality.pm10            1 non-null      float64\n",
      " 49  air_quality.us-epa-index    1 non-null      int64  \n",
      " 50  air_quality.gb-defra-index  1 non-null      int64  \n",
      " 51  forecastday                 1 non-null      object \n",
      " 52  alert                       1 non-null      object \n",
      "dtypes: float64(33), int64(9), object(11)\n",
      "memory usage: 556.0+ bytes\n"
     ]
    }
   ],
   "execution_count": 120
  },
  {
   "metadata": {},
   "cell_type": "code",
   "outputs": [],
   "execution_count": null,
   "source": "",
   "id": "c3d2d7012b5140a3"
  },
  {
   "metadata": {
    "ExecuteTime": {
     "end_time": "2025-10-05T10:43:54.837636Z",
     "start_time": "2025-10-05T10:43:54.521434Z"
    }
   },
   "cell_type": "code",
   "source": "df[(df['name'] == 'Jaipur') & (df['region'] == 'Rajasthan')]",
   "id": "253d14abb0dbe382",
   "outputs": [
    {
     "data": {
      "text/plain": [
       "     name     region country      lat      lon         tz_id  localtime_epoch  \\\n",
       "0  Jaipur  Rajasthan   India  26.9167  75.8167  Asia/Kolkata       1759641167   \n",
       "\n",
       "          localtime  last_updated_epoch      last_updated  ...  \\\n",
       "0  2025-10-05 10:42          1759640400  2025-10-05 10:30  ...   \n",
       "\n",
       "   air_quality.co  air_quality.no2  air_quality.o3  air_quality.so2  \\\n",
       "0          279.85            11.55            64.0             5.05   \n",
       "\n",
       "   air_quality.pm2_5  air_quality.pm10 air_quality.us-epa-index  \\\n",
       "0              18.15             18.75                        2   \n",
       "\n",
       "   air_quality.gb-defra-index  \\\n",
       "0                           2   \n",
       "\n",
       "                                         forecastday  alert  \n",
       "0  [{'date': '2025-10-05', 'date_epoch': 17596224...     []  \n",
       "\n",
       "[1 rows x 53 columns]"
      ],
      "text/html": [
       "<div>\n",
       "<style scoped>\n",
       "    .dataframe tbody tr th:only-of-type {\n",
       "        vertical-align: middle;\n",
       "    }\n",
       "\n",
       "    .dataframe tbody tr th {\n",
       "        vertical-align: top;\n",
       "    }\n",
       "\n",
       "    .dataframe thead th {\n",
       "        text-align: right;\n",
       "    }\n",
       "</style>\n",
       "<table border=\"1\" class=\"dataframe\">\n",
       "  <thead>\n",
       "    <tr style=\"text-align: right;\">\n",
       "      <th></th>\n",
       "      <th>name</th>\n",
       "      <th>region</th>\n",
       "      <th>country</th>\n",
       "      <th>lat</th>\n",
       "      <th>lon</th>\n",
       "      <th>tz_id</th>\n",
       "      <th>localtime_epoch</th>\n",
       "      <th>localtime</th>\n",
       "      <th>last_updated_epoch</th>\n",
       "      <th>last_updated</th>\n",
       "      <th>...</th>\n",
       "      <th>air_quality.co</th>\n",
       "      <th>air_quality.no2</th>\n",
       "      <th>air_quality.o3</th>\n",
       "      <th>air_quality.so2</th>\n",
       "      <th>air_quality.pm2_5</th>\n",
       "      <th>air_quality.pm10</th>\n",
       "      <th>air_quality.us-epa-index</th>\n",
       "      <th>air_quality.gb-defra-index</th>\n",
       "      <th>forecastday</th>\n",
       "      <th>alert</th>\n",
       "    </tr>\n",
       "  </thead>\n",
       "  <tbody>\n",
       "    <tr>\n",
       "      <th>0</th>\n",
       "      <td>Jaipur</td>\n",
       "      <td>Rajasthan</td>\n",
       "      <td>India</td>\n",
       "      <td>26.9167</td>\n",
       "      <td>75.8167</td>\n",
       "      <td>Asia/Kolkata</td>\n",
       "      <td>1759641167</td>\n",
       "      <td>2025-10-05 10:42</td>\n",
       "      <td>1759640400</td>\n",
       "      <td>2025-10-05 10:30</td>\n",
       "      <td>...</td>\n",
       "      <td>279.85</td>\n",
       "      <td>11.55</td>\n",
       "      <td>64.0</td>\n",
       "      <td>5.05</td>\n",
       "      <td>18.15</td>\n",
       "      <td>18.75</td>\n",
       "      <td>2</td>\n",
       "      <td>2</td>\n",
       "      <td>[{'date': '2025-10-05', 'date_epoch': 17596224...</td>\n",
       "      <td>[]</td>\n",
       "    </tr>\n",
       "  </tbody>\n",
       "</table>\n",
       "<p>1 rows × 53 columns</p>\n",
       "</div>"
      ]
     },
     "execution_count": 136,
     "metadata": {},
     "output_type": "execute_result"
    }
   ],
   "execution_count": 136
  }
 ],
 "metadata": {
  "kernelspec": {
   "display_name": "Python 3",
   "language": "python",
   "name": "python3"
  },
  "language_info": {
   "codemirror_mode": {
    "name": "ipython",
    "version": 2
   },
   "file_extension": ".py",
   "mimetype": "text/x-python",
   "name": "python",
   "nbconvert_exporter": "python",
   "pygments_lexer": "ipython2",
   "version": "2.7.6"
  }
 },
 "nbformat": 4,
 "nbformat_minor": 5
}
